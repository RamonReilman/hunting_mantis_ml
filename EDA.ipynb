{
 "cells": [
  {
   "cell_type": "markdown",
   "metadata": {},
   "source": [
    "## Introductie\n",
    "In deze EDA ga ik de [hunting mantis](https://www.kaggle.com/datasets/stealthtechnologies/predict-hunting-success-rate-of-a-chinese-mantis) dataset onderzoeken, en een machine learning algoritme op trainen.\n",
    "Uiteindelijk is het bedoeling om te kunnen voorspellen of een jacht van de mantis succesvol is gebasseerd op een aantal variabelen.\n",
    "Om dit te kunnen doen zal de data eerst onderzocht moeten worden.\n",
    "\n",
    "\n",
    "\n"
   ]
  },
  {
   "cell_type": "markdown",
   "metadata": {},
   "source": [
    "## EDA"
   ]
  },
  {
   "cell_type": "code",
   "execution_count": 1,
   "metadata": {},
   "outputs": [],
   "source": [
    "import matplotlib.pyplot as plt\n",
    "import seaborn as sns\n",
    "import pandas as pd"
   ]
  },
  {
   "cell_type": "markdown",
   "metadata": {},
   "source": [
    "### Inlezen"
   ]
  },
  {
   "cell_type": "code",
   "execution_count": 2,
   "metadata": {},
   "outputs": [
    {
     "data": {
      "application/vnd.microsoft.datawrangler.viewer.v0+json": {
       "columns": [
        {
         "name": "index",
         "rawType": "int64",
         "type": "integer"
        },
        {
         "name": "Humidity Level",
         "rawType": "float64",
         "type": "float"
        },
        {
         "name": "Temperature",
         "rawType": "float64",
         "type": "float"
        },
        {
         "name": "Time of Day",
         "rawType": "object",
         "type": "string"
        },
        {
         "name": "Luring Success",
         "rawType": "bool",
         "type": "boolean"
        },
        {
         "name": "Time Spent Hunting",
         "rawType": "float64",
         "type": "float"
        },
        {
         "name": "Prey Size",
         "rawType": "float64",
         "type": "float"
        },
        {
         "name": "Ambush",
         "rawType": "bool",
         "type": "boolean"
        },
        {
         "name": "Food Availability",
         "rawType": "object",
         "type": "unknown"
        },
        {
         "name": "Predator Presence",
         "rawType": "object",
         "type": "unknown"
        },
        {
         "name": "Is Competition",
         "rawType": "object",
         "type": "unknown"
        },
        {
         "name": "Hunting Success",
         "rawType": "int64",
         "type": "integer"
        }
       ],
       "conversionMethod": "pd.DataFrame",
       "ref": "6030a3a6-8839-4610-96d4-1f21107cbdbb",
       "rows": [
        [
         "1",
         "0.32",
         "31.25",
         "Morning",
         "True",
         "0.81",
         "6.6",
         "False",
         null,
         "True",
         "False",
         "0"
        ],
        [
         "2",
         "0.66",
         "29.08",
         "Afternoon",
         "False",
         "2.81",
         "5.38",
         "False",
         "Low",
         "False",
         "False",
         "1"
        ],
        [
         "3",
         "0.61",
         "25.74",
         "Evening",
         "True",
         "3.79",
         "15.189245757401972",
         "True",
         "Low",
         "False",
         "False",
         "1"
        ],
        [
         "4",
         "0.37",
         "22.68",
         "Morning",
         "False",
         "4.27",
         "5.06",
         "True",
         "Low",
         "True",
         "False",
         "1"
        ],
        [
         "5",
         "0.65",
         "29.2",
         "Afternoon",
         "False",
         "3.84",
         "2.71",
         "False",
         "High",
         "False",
         "False",
         "1"
        ]
       ],
       "shape": {
        "columns": 11,
        "rows": 5
       }
      },
      "text/html": [
       "<div>\n",
       "<style scoped>\n",
       "    .dataframe tbody tr th:only-of-type {\n",
       "        vertical-align: middle;\n",
       "    }\n",
       "\n",
       "    .dataframe tbody tr th {\n",
       "        vertical-align: top;\n",
       "    }\n",
       "\n",
       "    .dataframe thead th {\n",
       "        text-align: right;\n",
       "    }\n",
       "</style>\n",
       "<table border=\"1\" class=\"dataframe\">\n",
       "  <thead>\n",
       "    <tr style=\"text-align: right;\">\n",
       "      <th></th>\n",
       "      <th>Humidity Level</th>\n",
       "      <th>Temperature</th>\n",
       "      <th>Time of Day</th>\n",
       "      <th>Luring Success</th>\n",
       "      <th>Time Spent Hunting</th>\n",
       "      <th>Prey Size</th>\n",
       "      <th>Ambush</th>\n",
       "      <th>Food Availability</th>\n",
       "      <th>Predator Presence</th>\n",
       "      <th>Is Competition</th>\n",
       "      <th>Hunting Success</th>\n",
       "    </tr>\n",
       "  </thead>\n",
       "  <tbody>\n",
       "    <tr>\n",
       "      <th>1</th>\n",
       "      <td>0.32</td>\n",
       "      <td>31.25</td>\n",
       "      <td>Morning</td>\n",
       "      <td>True</td>\n",
       "      <td>0.81</td>\n",
       "      <td>6.600000</td>\n",
       "      <td>False</td>\n",
       "      <td>NaN</td>\n",
       "      <td>True</td>\n",
       "      <td>False</td>\n",
       "      <td>0</td>\n",
       "    </tr>\n",
       "    <tr>\n",
       "      <th>2</th>\n",
       "      <td>0.66</td>\n",
       "      <td>29.08</td>\n",
       "      <td>Afternoon</td>\n",
       "      <td>False</td>\n",
       "      <td>2.81</td>\n",
       "      <td>5.380000</td>\n",
       "      <td>False</td>\n",
       "      <td>Low</td>\n",
       "      <td>False</td>\n",
       "      <td>False</td>\n",
       "      <td>1</td>\n",
       "    </tr>\n",
       "    <tr>\n",
       "      <th>3</th>\n",
       "      <td>0.61</td>\n",
       "      <td>25.74</td>\n",
       "      <td>Evening</td>\n",
       "      <td>True</td>\n",
       "      <td>3.79</td>\n",
       "      <td>15.189246</td>\n",
       "      <td>True</td>\n",
       "      <td>Low</td>\n",
       "      <td>False</td>\n",
       "      <td>False</td>\n",
       "      <td>1</td>\n",
       "    </tr>\n",
       "    <tr>\n",
       "      <th>4</th>\n",
       "      <td>0.37</td>\n",
       "      <td>22.68</td>\n",
       "      <td>Morning</td>\n",
       "      <td>False</td>\n",
       "      <td>4.27</td>\n",
       "      <td>5.060000</td>\n",
       "      <td>True</td>\n",
       "      <td>Low</td>\n",
       "      <td>True</td>\n",
       "      <td>False</td>\n",
       "      <td>1</td>\n",
       "    </tr>\n",
       "    <tr>\n",
       "      <th>5</th>\n",
       "      <td>0.65</td>\n",
       "      <td>29.20</td>\n",
       "      <td>Afternoon</td>\n",
       "      <td>False</td>\n",
       "      <td>3.84</td>\n",
       "      <td>2.710000</td>\n",
       "      <td>False</td>\n",
       "      <td>High</td>\n",
       "      <td>False</td>\n",
       "      <td>False</td>\n",
       "      <td>1</td>\n",
       "    </tr>\n",
       "  </tbody>\n",
       "</table>\n",
       "</div>"
      ],
      "text/plain": [
       "   Humidity Level  Temperature Time of Day  Luring Success  \\\n",
       "1            0.32        31.25     Morning            True   \n",
       "2            0.66        29.08   Afternoon           False   \n",
       "3            0.61        25.74     Evening            True   \n",
       "4            0.37        22.68     Morning           False   \n",
       "5            0.65        29.20   Afternoon           False   \n",
       "\n",
       "   Time Spent Hunting  Prey Size  Ambush Food Availability Predator Presence  \\\n",
       "1                0.81   6.600000   False               NaN              True   \n",
       "2                2.81   5.380000   False               Low             False   \n",
       "3                3.79  15.189246    True               Low             False   \n",
       "4                4.27   5.060000    True               Low              True   \n",
       "5                3.84   2.710000   False              High             False   \n",
       "\n",
       "  Is Competition  Hunting Success  \n",
       "1          False                0  \n",
       "2          False                1  \n",
       "3          False                1  \n",
       "4          False                1  \n",
       "5          False                1  "
      ]
     },
     "execution_count": 2,
     "metadata": {},
     "output_type": "execute_result"
    }
   ],
   "source": [
    "hunting_data = pd.read_csv(\"./data.csv\")\n",
    "hunting_data.index += 1\n",
    "hunting_data.head()"
   ]
  },
  {
   "cell_type": "code",
   "execution_count": 17,
   "metadata": {},
   "outputs": [
    {
     "data": {
      "text/plain": [
       "(300000, 11)"
      ]
     },
     "execution_count": 17,
     "metadata": {},
     "output_type": "execute_result"
    }
   ],
   "source": [
    "hunting_data.shape"
   ]
  },
  {
   "cell_type": "markdown",
   "metadata": {},
   "source": [
    "Alle kolommen en rijen zijn goed ingelezen, shape komt overeen met wat er op de site staat (300000x11)."
   ]
  },
  {
   "cell_type": "code",
   "execution_count": 3,
   "metadata": {},
   "outputs": [
    {
     "data": {
      "application/vnd.microsoft.datawrangler.viewer.v0+json": {
       "columns": [
        {
         "name": "index",
         "rawType": "int64",
         "type": "integer"
        },
        {
         "name": "attribute",
         "rawType": "object",
         "type": "string"
        },
        {
         "name": "unit",
         "rawType": "object",
         "type": "string"
        },
        {
         "name": "dtype",
         "rawType": "object",
         "type": "string"
        },
        {
         "name": "description",
         "rawType": "object",
         "type": "string"
        }
       ],
       "conversionMethod": "pd.DataFrame",
       "ref": "c6e5de66-0690-4a2d-a0d9-7f2703f059d3",
       "rows": [
        [
         "0",
         "Humidity Level",
         "g/m^3",
         "float64",
         "Humidty level of enviroment"
        ],
        [
         "1",
         "Temperature",
         "Celcius",
         "float64",
         "Temperature of enviroment"
        ],
        [
         "2",
         "Time of Day",
         "NA",
         "category",
         "Time of the day"
        ],
        [
         "3",
         "Luring Success",
         "True/False",
         "bool",
         "Luring succes"
        ],
        [
         "4",
         "Time Spent Hunting",
         "Minutes",
         "float64",
         "Time spent hunting"
        ],
        [
         "5",
         "Prey Size",
         "Cm",
         "float64",
         "Size of prey being hunted"
        ],
        [
         "6",
         "Ambush",
         "True/False",
         "bool",
         "If mantis used an ambush"
        ],
        [
         "7",
         "Food Availability",
         "NA",
         "category",
         "Amount of food available"
        ],
        [
         "8",
         "Predator Presence",
         "True/False",
         "bool",
         "If there are predators near"
        ],
        [
         "9",
         "Is Competition",
         "True/False",
         "bool",
         "If there is competition"
        ],
        [
         "10",
         "Hunting Success",
         "1/0",
         "int64",
         "If the hunt was a succes"
        ]
       ],
       "shape": {
        "columns": 4,
        "rows": 11
       }
      },
      "text/html": [
       "<div>\n",
       "<style scoped>\n",
       "    .dataframe tbody tr th:only-of-type {\n",
       "        vertical-align: middle;\n",
       "    }\n",
       "\n",
       "    .dataframe tbody tr th {\n",
       "        vertical-align: top;\n",
       "    }\n",
       "\n",
       "    .dataframe thead th {\n",
       "        text-align: right;\n",
       "    }\n",
       "</style>\n",
       "<table border=\"1\" class=\"dataframe\">\n",
       "  <thead>\n",
       "    <tr style=\"text-align: right;\">\n",
       "      <th></th>\n",
       "      <th>attribute</th>\n",
       "      <th>unit</th>\n",
       "      <th>dtype</th>\n",
       "      <th>description</th>\n",
       "    </tr>\n",
       "  </thead>\n",
       "  <tbody>\n",
       "    <tr>\n",
       "      <th>0</th>\n",
       "      <td>Humidity Level</td>\n",
       "      <td>g/m^3</td>\n",
       "      <td>float64</td>\n",
       "      <td>Humidty level of enviroment</td>\n",
       "    </tr>\n",
       "    <tr>\n",
       "      <th>1</th>\n",
       "      <td>Temperature</td>\n",
       "      <td>Celcius</td>\n",
       "      <td>float64</td>\n",
       "      <td>Temperature of enviroment</td>\n",
       "    </tr>\n",
       "    <tr>\n",
       "      <th>2</th>\n",
       "      <td>Time of Day</td>\n",
       "      <td>NA</td>\n",
       "      <td>category</td>\n",
       "      <td>Time of the day</td>\n",
       "    </tr>\n",
       "    <tr>\n",
       "      <th>3</th>\n",
       "      <td>Luring Success</td>\n",
       "      <td>True/False</td>\n",
       "      <td>bool</td>\n",
       "      <td>Luring succes</td>\n",
       "    </tr>\n",
       "    <tr>\n",
       "      <th>4</th>\n",
       "      <td>Time Spent Hunting</td>\n",
       "      <td>Minutes</td>\n",
       "      <td>float64</td>\n",
       "      <td>Time spent hunting</td>\n",
       "    </tr>\n",
       "    <tr>\n",
       "      <th>5</th>\n",
       "      <td>Prey Size</td>\n",
       "      <td>Cm</td>\n",
       "      <td>float64</td>\n",
       "      <td>Size of prey being hunted</td>\n",
       "    </tr>\n",
       "    <tr>\n",
       "      <th>6</th>\n",
       "      <td>Ambush</td>\n",
       "      <td>True/False</td>\n",
       "      <td>bool</td>\n",
       "      <td>If mantis used an ambush</td>\n",
       "    </tr>\n",
       "    <tr>\n",
       "      <th>7</th>\n",
       "      <td>Food Availability</td>\n",
       "      <td>NA</td>\n",
       "      <td>category</td>\n",
       "      <td>Amount of food available</td>\n",
       "    </tr>\n",
       "    <tr>\n",
       "      <th>8</th>\n",
       "      <td>Predator Presence</td>\n",
       "      <td>True/False</td>\n",
       "      <td>bool</td>\n",
       "      <td>If there are predators near</td>\n",
       "    </tr>\n",
       "    <tr>\n",
       "      <th>9</th>\n",
       "      <td>Is Competition</td>\n",
       "      <td>True/False</td>\n",
       "      <td>bool</td>\n",
       "      <td>If there is competition</td>\n",
       "    </tr>\n",
       "    <tr>\n",
       "      <th>10</th>\n",
       "      <td>Hunting Success</td>\n",
       "      <td>1/0</td>\n",
       "      <td>int64</td>\n",
       "      <td>If the hunt was a succes</td>\n",
       "    </tr>\n",
       "  </tbody>\n",
       "</table>\n",
       "</div>"
      ],
      "text/plain": [
       "             attribute        unit     dtype                  description\n",
       "0       Humidity Level       g/m^3   float64  Humidty level of enviroment\n",
       "1          Temperature     Celcius   float64    Temperature of enviroment\n",
       "2          Time of Day          NA  category              Time of the day\n",
       "3       Luring Success  True/False      bool                Luring succes\n",
       "4   Time Spent Hunting     Minutes   float64           Time spent hunting\n",
       "5            Prey Size          Cm   float64    Size of prey being hunted\n",
       "6               Ambush  True/False      bool     If mantis used an ambush\n",
       "7    Food Availability          NA  category     Amount of food available\n",
       "8    Predator Presence  True/False      bool  If there are predators near\n",
       "9       Is Competition  True/False      bool      If there is competition\n",
       "10     Hunting Success         1/0     int64     If the hunt was a succes"
      ]
     },
     "execution_count": 3,
     "metadata": {},
     "output_type": "execute_result"
    }
   ],
   "source": [
    "codebook = {\n",
    "    \"attribute\": hunting_data.columns,\n",
    "    \"unit\": [\"g/m^3\", \"Celcius\", \"NA\", \"True/False\", \"Minutes\", \"Cm\", \"True/False\", \"NA\", \"True/False\", \"True/False\", \"1/0\"],\n",
    "    \"dtype\": [\"float64\", \"float64\", \"category\", \"bool\", \"float64\", \"float64\", \"bool\", \"category\", \"bool\", \"bool\", \"int64\"],\n",
    "    \"description\": [\n",
    "        \"Humidty level of enviroment\",\n",
    "        \"Temperature of enviroment\",\n",
    "        \"Time of the day\",\n",
    "        \"Luring succes\",\n",
    "        \"Time spent hunting\",\n",
    "        \"Size of prey being hunted\",\n",
    "        \"If mantis used an ambush\",\n",
    "        \"Amount of food available\",\n",
    "        \"If there are predators near\",\n",
    "        \"If there is competition\",\n",
    "        \"If the hunt was a succes\"\n",
    "    ]\n",
    "}\n",
    "pd.DataFrame(codebook)\n"
   ]
  },
  {
   "cell_type": "markdown",
   "metadata": {},
   "source": [
    "Deze dataframe bevat informatie over de attributen van de data\n",
    "\n",
    "### Univariaat"
   ]
  },
  {
   "cell_type": "code",
   "execution_count": 4,
   "metadata": {},
   "outputs": [
    {
     "data": {
      "application/vnd.microsoft.datawrangler.viewer.v0+json": {
       "columns": [
        {
         "name": "index",
         "rawType": "object",
         "type": "string"
        },
        {
         "name": "isna",
         "rawType": "int64",
         "type": "integer"
        }
       ],
       "conversionMethod": "pd.DataFrame",
       "ref": "afc854f2-41c1-40bc-8cb7-afaa3ed7a293",
       "rows": [
        [
         "Humidity Level",
         "0"
        ],
        [
         "Temperature",
         "0"
        ],
        [
         "Time of Day",
         "0"
        ],
        [
         "Luring Success",
         "0"
        ],
        [
         "Time Spent Hunting",
         "0"
        ],
        [
         "Prey Size",
         "0"
        ],
        [
         "Ambush",
         "0"
        ],
        [
         "Food Availability",
         "30212"
        ],
        [
         "Predator Presence",
         "29708"
        ],
        [
         "Is Competition",
         "30119"
        ],
        [
         "Hunting Success",
         "0"
        ]
       ],
       "shape": {
        "columns": 1,
        "rows": 11
       }
      },
      "text/html": [
       "<div>\n",
       "<style scoped>\n",
       "    .dataframe tbody tr th:only-of-type {\n",
       "        vertical-align: middle;\n",
       "    }\n",
       "\n",
       "    .dataframe tbody tr th {\n",
       "        vertical-align: top;\n",
       "    }\n",
       "\n",
       "    .dataframe thead th {\n",
       "        text-align: right;\n",
       "    }\n",
       "</style>\n",
       "<table border=\"1\" class=\"dataframe\">\n",
       "  <thead>\n",
       "    <tr style=\"text-align: right;\">\n",
       "      <th></th>\n",
       "      <th>isna</th>\n",
       "    </tr>\n",
       "  </thead>\n",
       "  <tbody>\n",
       "    <tr>\n",
       "      <th>Humidity Level</th>\n",
       "      <td>0</td>\n",
       "    </tr>\n",
       "    <tr>\n",
       "      <th>Temperature</th>\n",
       "      <td>0</td>\n",
       "    </tr>\n",
       "    <tr>\n",
       "      <th>Time of Day</th>\n",
       "      <td>0</td>\n",
       "    </tr>\n",
       "    <tr>\n",
       "      <th>Luring Success</th>\n",
       "      <td>0</td>\n",
       "    </tr>\n",
       "    <tr>\n",
       "      <th>Time Spent Hunting</th>\n",
       "      <td>0</td>\n",
       "    </tr>\n",
       "    <tr>\n",
       "      <th>Prey Size</th>\n",
       "      <td>0</td>\n",
       "    </tr>\n",
       "    <tr>\n",
       "      <th>Ambush</th>\n",
       "      <td>0</td>\n",
       "    </tr>\n",
       "    <tr>\n",
       "      <th>Food Availability</th>\n",
       "      <td>30212</td>\n",
       "    </tr>\n",
       "    <tr>\n",
       "      <th>Predator Presence</th>\n",
       "      <td>29708</td>\n",
       "    </tr>\n",
       "    <tr>\n",
       "      <th>Is Competition</th>\n",
       "      <td>30119</td>\n",
       "    </tr>\n",
       "    <tr>\n",
       "      <th>Hunting Success</th>\n",
       "      <td>0</td>\n",
       "    </tr>\n",
       "  </tbody>\n",
       "</table>\n",
       "</div>"
      ],
      "text/plain": [
       "                     isna\n",
       "Humidity Level          0\n",
       "Temperature             0\n",
       "Time of Day             0\n",
       "Luring Success          0\n",
       "Time Spent Hunting      0\n",
       "Prey Size               0\n",
       "Ambush                  0\n",
       "Food Availability   30212\n",
       "Predator Presence   29708\n",
       "Is Competition      30119\n",
       "Hunting Success         0"
      ]
     },
     "execution_count": 4,
     "metadata": {},
     "output_type": "execute_result"
    }
   ],
   "source": [
    "pd.DataFrame({\n",
    "  \"isna\": hunting_data.isna().sum()\n",
    "})"
   ]
  },
  {
   "cell_type": "markdown",
   "metadata": {},
   "source": [
    "Er zijn een aantal missende waarden bij \"Food Availability\", \"Predator Presence\", \"Is Competition\". Ik wil later eerst bepalen hoe relevant deze waarden zijn voordat ik iets aan deze waarden ga doen."
   ]
  },
  {
   "cell_type": "code",
   "execution_count": 5,
   "metadata": {},
   "outputs": [],
   "source": [
    "def by_unit(*units):\n",
    "    return [attribute for attribute, unit in zip(codebook[\"attribute\"], codebook[\"unit\"]) if unit in units]\n"
   ]
  },
  {
   "cell_type": "markdown",
   "metadata": {},
   "source": [
    "Om de distributies van numerieke attributen te visualiseren worden boxplotten en histogrammen gebruikt."
   ]
  },
  {
   "cell_type": "code",
   "execution_count": 13,
   "metadata": {},
   "outputs": [
    {
     "data": {
      "text/plain": [
       "<Axes: >"
      ]
     },
     "execution_count": 13,
     "metadata": {},
     "output_type": "execute_result"
    }
   ],
   "source": [
    "hunting_data[by_unit(\"g/m^3\")].boxplot(vert=False, grid=False)"
   ]
  },
  {
   "cell_type": "code",
   "execution_count": 7,
   "metadata": {},
   "outputs": [
    {
     "data": {
      "text/plain": [
       "<Axes: >"
      ]
     },
     "execution_count": 7,
     "metadata": {},
     "output_type": "execute_result"
    }
   ],
   "source": [
    "hunting_data[by_unit(\"Celcius\")].boxplot(vert=False, grid=False)"
   ]
  },
  {
   "cell_type": "code",
   "execution_count": 14,
   "metadata": {},
   "outputs": [
    {
     "ename": "AssertionError",
     "evalue": "1",
     "output_type": "error",
     "traceback": [
      "\u001b[31m---------------------------------------------------------------------------\u001b[39m",
      "\u001b[31mAssertionError\u001b[39m                            Traceback (most recent call last)",
      "\u001b[36mCell\u001b[39m\u001b[36m \u001b[39m\u001b[32mIn[14]\u001b[39m\u001b[32m, line 1\u001b[39m\n\u001b[32m----> \u001b[39m\u001b[32m1\u001b[39m \u001b[43mhunting_data\u001b[49m\u001b[43m[\u001b[49m\u001b[43mby_unit\u001b[49m\u001b[43m(\u001b[49m\u001b[33;43m\"\u001b[39;49m\u001b[33;43mCm\u001b[39;49m\u001b[33;43m\"\u001b[39;49m\u001b[43m,\u001b[49m\u001b[43m \u001b[49m\u001b[33;43m\"\u001b[39;49m\u001b[33;43mMinutes\u001b[39;49m\u001b[33;43m\"\u001b[39;49m\u001b[43m)\u001b[49m\u001b[43m]\u001b[49m\u001b[43m.\u001b[49m\u001b[43mboxplot\u001b[49m\u001b[43m(\u001b[49m\u001b[43mvert\u001b[49m\u001b[43m=\u001b[49m\u001b[38;5;28;43;01mFalse\u001b[39;49;00m\u001b[43m,\u001b[49m\u001b[43m \u001b[49m\u001b[43mgrid\u001b[49m\u001b[43m=\u001b[49m\u001b[38;5;28;43;01mFalse\u001b[39;49;00m\u001b[43m)\u001b[49m\n",
      "\u001b[36mFile \u001b[39m\u001b[32m~/jaar2/kwartaal3/machine_learning/hunting_mantis/.venv/lib/python3.11/site-packages/pandas/plotting/_core.py:533\u001b[39m, in \u001b[36mboxplot_frame\u001b[39m\u001b[34m(self, column, by, ax, fontsize, rot, grid, figsize, layout, return_type, backend, **kwargs)\u001b[39m\n\u001b[32m    516\u001b[39m \u001b[38;5;129m@Substitution\u001b[39m(data=\u001b[33m\"\u001b[39m\u001b[33m\"\u001b[39m, backend=_backend_doc)\n\u001b[32m    517\u001b[39m \u001b[38;5;129m@Appender\u001b[39m(_boxplot_doc)\n\u001b[32m    518\u001b[39m \u001b[38;5;28;01mdef\u001b[39;00m\u001b[38;5;250m \u001b[39m\u001b[34mboxplot_frame\u001b[39m(\n\u001b[32m   (...)\u001b[39m\u001b[32m    530\u001b[39m     **kwargs,\n\u001b[32m    531\u001b[39m ):\n\u001b[32m    532\u001b[39m     plot_backend = _get_plot_backend(backend)\n\u001b[32m--> \u001b[39m\u001b[32m533\u001b[39m     \u001b[38;5;28;01mreturn\u001b[39;00m \u001b[43mplot_backend\u001b[49m\u001b[43m.\u001b[49m\u001b[43mboxplot_frame\u001b[49m\u001b[43m(\u001b[49m\n\u001b[32m    534\u001b[39m \u001b[43m        \u001b[49m\u001b[38;5;28;43mself\u001b[39;49m\u001b[43m,\u001b[49m\n\u001b[32m    535\u001b[39m \u001b[43m        \u001b[49m\u001b[43mcolumn\u001b[49m\u001b[43m=\u001b[49m\u001b[43mcolumn\u001b[49m\u001b[43m,\u001b[49m\n\u001b[32m    536\u001b[39m \u001b[43m        \u001b[49m\u001b[43mby\u001b[49m\u001b[43m=\u001b[49m\u001b[43mby\u001b[49m\u001b[43m,\u001b[49m\n\u001b[32m    537\u001b[39m \u001b[43m        \u001b[49m\u001b[43max\u001b[49m\u001b[43m=\u001b[49m\u001b[43max\u001b[49m\u001b[43m,\u001b[49m\n\u001b[32m    538\u001b[39m \u001b[43m        \u001b[49m\u001b[43mfontsize\u001b[49m\u001b[43m=\u001b[49m\u001b[43mfontsize\u001b[49m\u001b[43m,\u001b[49m\n\u001b[32m    539\u001b[39m \u001b[43m        \u001b[49m\u001b[43mrot\u001b[49m\u001b[43m=\u001b[49m\u001b[43mrot\u001b[49m\u001b[43m,\u001b[49m\n\u001b[32m    540\u001b[39m \u001b[43m        \u001b[49m\u001b[43mgrid\u001b[49m\u001b[43m=\u001b[49m\u001b[43mgrid\u001b[49m\u001b[43m,\u001b[49m\n\u001b[32m    541\u001b[39m \u001b[43m        \u001b[49m\u001b[43mfigsize\u001b[49m\u001b[43m=\u001b[49m\u001b[43mfigsize\u001b[49m\u001b[43m,\u001b[49m\n\u001b[32m    542\u001b[39m \u001b[43m        \u001b[49m\u001b[43mlayout\u001b[49m\u001b[43m=\u001b[49m\u001b[43mlayout\u001b[49m\u001b[43m,\u001b[49m\n\u001b[32m    543\u001b[39m \u001b[43m        \u001b[49m\u001b[43mreturn_type\u001b[49m\u001b[43m=\u001b[49m\u001b[43mreturn_type\u001b[49m\u001b[43m,\u001b[49m\n\u001b[32m    544\u001b[39m \u001b[43m        \u001b[49m\u001b[43m*\u001b[49m\u001b[43m*\u001b[49m\u001b[43mkwargs\u001b[49m\u001b[43m,\u001b[49m\n\u001b[32m    545\u001b[39m \u001b[43m    \u001b[49m\u001b[43m)\u001b[49m\n",
      "\u001b[36mFile \u001b[39m\u001b[32m~/jaar2/kwartaal3/machine_learning/hunting_mantis/.venv/lib/python3.11/site-packages/pandas/plotting/_matplotlib/boxplot.py:492\u001b[39m, in \u001b[36mboxplot_frame\u001b[39m\u001b[34m(self, column, by, ax, fontsize, rot, grid, figsize, layout, return_type, **kwds)\u001b[39m\n\u001b[32m    477\u001b[39m \u001b[38;5;28;01mdef\u001b[39;00m\u001b[38;5;250m \u001b[39m\u001b[34mboxplot_frame\u001b[39m(\n\u001b[32m    478\u001b[39m     \u001b[38;5;28mself\u001b[39m,\n\u001b[32m    479\u001b[39m     column=\u001b[38;5;28;01mNone\u001b[39;00m,\n\u001b[32m   (...)\u001b[39m\u001b[32m    488\u001b[39m     **kwds,\n\u001b[32m    489\u001b[39m ):\n\u001b[32m    490\u001b[39m     \u001b[38;5;28;01mimport\u001b[39;00m\u001b[38;5;250m \u001b[39m\u001b[34;01mmatplotlib\u001b[39;00m\u001b[34;01m.\u001b[39;00m\u001b[34;01mpyplot\u001b[39;00m\u001b[38;5;250m \u001b[39m\u001b[38;5;28;01mas\u001b[39;00m\u001b[38;5;250m \u001b[39m\u001b[34;01mplt\u001b[39;00m\n\u001b[32m--> \u001b[39m\u001b[32m492\u001b[39m     ax = \u001b[43mboxplot\u001b[49m\u001b[43m(\u001b[49m\n\u001b[32m    493\u001b[39m \u001b[43m        \u001b[49m\u001b[38;5;28;43mself\u001b[39;49m\u001b[43m,\u001b[49m\n\u001b[32m    494\u001b[39m \u001b[43m        \u001b[49m\u001b[43mcolumn\u001b[49m\u001b[43m=\u001b[49m\u001b[43mcolumn\u001b[49m\u001b[43m,\u001b[49m\n\u001b[32m    495\u001b[39m \u001b[43m        \u001b[49m\u001b[43mby\u001b[49m\u001b[43m=\u001b[49m\u001b[43mby\u001b[49m\u001b[43m,\u001b[49m\n\u001b[32m    496\u001b[39m \u001b[43m        \u001b[49m\u001b[43max\u001b[49m\u001b[43m=\u001b[49m\u001b[43max\u001b[49m\u001b[43m,\u001b[49m\n\u001b[32m    497\u001b[39m \u001b[43m        \u001b[49m\u001b[43mfontsize\u001b[49m\u001b[43m=\u001b[49m\u001b[43mfontsize\u001b[49m\u001b[43m,\u001b[49m\n\u001b[32m    498\u001b[39m \u001b[43m        \u001b[49m\u001b[43mgrid\u001b[49m\u001b[43m=\u001b[49m\u001b[43mgrid\u001b[49m\u001b[43m,\u001b[49m\n\u001b[32m    499\u001b[39m \u001b[43m        \u001b[49m\u001b[43mrot\u001b[49m\u001b[43m=\u001b[49m\u001b[43mrot\u001b[49m\u001b[43m,\u001b[49m\n\u001b[32m    500\u001b[39m \u001b[43m        \u001b[49m\u001b[43mfigsize\u001b[49m\u001b[43m=\u001b[49m\u001b[43mfigsize\u001b[49m\u001b[43m,\u001b[49m\n\u001b[32m    501\u001b[39m \u001b[43m        \u001b[49m\u001b[43mlayout\u001b[49m\u001b[43m=\u001b[49m\u001b[43mlayout\u001b[49m\u001b[43m,\u001b[49m\n\u001b[32m    502\u001b[39m \u001b[43m        \u001b[49m\u001b[43mreturn_type\u001b[49m\u001b[43m=\u001b[49m\u001b[43mreturn_type\u001b[49m\u001b[43m,\u001b[49m\n\u001b[32m    503\u001b[39m \u001b[43m        \u001b[49m\u001b[43m*\u001b[49m\u001b[43m*\u001b[49m\u001b[43mkwds\u001b[49m\u001b[43m,\u001b[49m\n\u001b[32m    504\u001b[39m \u001b[43m    \u001b[49m\u001b[43m)\u001b[49m\n\u001b[32m    505\u001b[39m     plt.draw_if_interactive()\n\u001b[32m    506\u001b[39m     \u001b[38;5;28;01mreturn\u001b[39;00m ax\n",
      "\u001b[36mFile \u001b[39m\u001b[32m~/jaar2/kwartaal3/machine_learning/hunting_mantis/.venv/lib/python3.11/site-packages/pandas/plotting/_matplotlib/boxplot.py:471\u001b[39m, in \u001b[36mboxplot\u001b[39m\u001b[34m(data, column, by, ax, fontsize, rot, grid, figsize, layout, return_type, **kwds)\u001b[39m\n\u001b[32m    468\u001b[39m     \u001b[38;5;28;01melse\u001b[39;00m:\n\u001b[32m    469\u001b[39m         data = data[columns]\n\u001b[32m--> \u001b[39m\u001b[32m471\u001b[39m     result = \u001b[43mplot_group\u001b[49m\u001b[43m(\u001b[49m\u001b[43mcolumns\u001b[49m\u001b[43m,\u001b[49m\u001b[43m \u001b[49m\u001b[43mdata\u001b[49m\u001b[43m.\u001b[49m\u001b[43mvalues\u001b[49m\u001b[43m.\u001b[49m\u001b[43mT\u001b[49m\u001b[43m,\u001b[49m\u001b[43m \u001b[49m\u001b[43max\u001b[49m\u001b[43m,\u001b[49m\u001b[43m \u001b[49m\u001b[43m*\u001b[49m\u001b[43m*\u001b[49m\u001b[43mkwds\u001b[49m\u001b[43m)\u001b[49m\n\u001b[32m    472\u001b[39m     ax.grid(grid)\n\u001b[32m    474\u001b[39m \u001b[38;5;28;01mreturn\u001b[39;00m result\n",
      "\u001b[36mFile \u001b[39m\u001b[32m~/jaar2/kwartaal3/machine_learning/hunting_mantis/.venv/lib/python3.11/site-packages/pandas/plotting/_matplotlib/boxplot.py:414\u001b[39m, in \u001b[36mboxplot.<locals>.plot_group\u001b[39m\u001b[34m(keys, values, ax, **kwds)\u001b[39m\n\u001b[32m    411\u001b[39m     ax.tick_params(axis=\u001b[33m\"\u001b[39m\u001b[33mboth\u001b[39m\u001b[33m\"\u001b[39m, labelsize=fontsize)\n\u001b[32m    413\u001b[39m \u001b[38;5;66;03m# GH 45465: x/y are flipped when \"vert\" changes\u001b[39;00m\n\u001b[32m--> \u001b[39m\u001b[32m414\u001b[39m \u001b[43m_set_ticklabels\u001b[49m\u001b[43m(\u001b[49m\n\u001b[32m    415\u001b[39m \u001b[43m    \u001b[49m\u001b[43max\u001b[49m\u001b[43m=\u001b[49m\u001b[43max\u001b[49m\u001b[43m,\u001b[49m\u001b[43m \u001b[49m\u001b[43mlabels\u001b[49m\u001b[43m=\u001b[49m\u001b[43mkeys\u001b[49m\u001b[43m,\u001b[49m\u001b[43m \u001b[49m\u001b[43mis_vertical\u001b[49m\u001b[43m=\u001b[49m\u001b[43mkwds\u001b[49m\u001b[43m.\u001b[49m\u001b[43mget\u001b[49m\u001b[43m(\u001b[49m\u001b[33;43m\"\u001b[39;49m\u001b[33;43mvert\u001b[39;49m\u001b[33;43m\"\u001b[39;49m\u001b[43m,\u001b[49m\u001b[43m \u001b[49m\u001b[38;5;28;43;01mTrue\u001b[39;49;00m\u001b[43m)\u001b[49m\u001b[43m,\u001b[49m\u001b[43m \u001b[49m\u001b[43mrotation\u001b[49m\u001b[43m=\u001b[49m\u001b[43mrot\u001b[49m\n\u001b[32m    416\u001b[39m \u001b[43m\u001b[49m\u001b[43m)\u001b[49m\n\u001b[32m    417\u001b[39m maybe_color_bp(bp, color_tup=colors, **kwds)\n\u001b[32m    419\u001b[39m \u001b[38;5;66;03m# Return axes in multiplot case, maybe revisit later # 985\u001b[39;00m\n",
      "\u001b[36mFile \u001b[39m\u001b[32m~/jaar2/kwartaal3/machine_learning/hunting_mantis/.venv/lib/python3.11/site-packages/pandas/plotting/_matplotlib/boxplot.py:57\u001b[39m, in \u001b[36m_set_ticklabels\u001b[39m\u001b[34m(ax, labels, is_vertical, **kwargs)\u001b[39m\n\u001b[32m     55\u001b[39m \u001b[38;5;28;01mif\u001b[39;00m \u001b[38;5;28mlen\u001b[39m(ticks) != \u001b[38;5;28mlen\u001b[39m(labels):\n\u001b[32m     56\u001b[39m     i, remainder = \u001b[38;5;28mdivmod\u001b[39m(\u001b[38;5;28mlen\u001b[39m(ticks), \u001b[38;5;28mlen\u001b[39m(labels))\n\u001b[32m---> \u001b[39m\u001b[32m57\u001b[39m     \u001b[38;5;28;01massert\u001b[39;00m remainder == \u001b[32m0\u001b[39m, remainder\n\u001b[32m     58\u001b[39m     labels *= i\n\u001b[32m     59\u001b[39m \u001b[38;5;28;01mif\u001b[39;00m is_vertical:\n",
      "\u001b[31mAssertionError\u001b[39m: 1"
     ]
    }
   ],
   "source": [
    "hunting_data[by_unit(\"Cm\", \"Minutes\")].boxplot(vert=False, grid=False)"
   ]
  },
  {
   "cell_type": "code",
   "execution_count": 15,
   "metadata": {},
   "outputs": [],
   "source": [
    "hunting_data[by_unit(\"g/m^3\", \"Celcius\", \"Minutes\", \"Cm\")].hist(bins=20, layout=(2,2), figsize=(16,9.6));"
   ]
  },
  {
   "cell_type": "markdown",
   "metadata": {},
   "source": [
    "Het is zichtbaar dat de data van temperatuur uniform verdeeld is.\n",
    "Bij vochtigheid is het niet volledig univorm, sommige nummers komen iets vaker voor dan andere.\n",
    "De laatste 2 zijn vrij univorm verdeeld, tot een bepaalde waarde (=>5 bij time spent hunting, => 10 bij Prey size). Dit wijst erop dat over het algemeen er minder dan 5 minuten gejaagd wordt. Grotere prooien komen minder vaak voor, wat kan wijzen naar een voorkeur van de mantis."
   ]
  },
  {
   "cell_type": "markdown",
   "metadata": {},
   "source": [
    "Ik wil nu de distributies vergelijken van de categorische attributen, \"Time of Day\" en \"Food Availability\". Dit wordt gedaan met een barchart"
   ]
  },
  {
   "cell_type": "code",
   "execution_count": 16,
   "metadata": {},
   "outputs": [],
   "source": [
    "sns.barplot(hunting_data[\"Time of Day\"]);"
   ]
  },
  {
   "cell_type": "code",
   "execution_count": null,
   "metadata": {},
   "outputs": [
    {
     "ename": "KeyboardInterrupt",
     "evalue": "",
     "output_type": "error",
     "traceback": [
      "\u001b[31m---------------------------------------------------------------------------\u001b[39m",
      "\u001b[31mKeyboardInterrupt\u001b[39m                         Traceback (most recent call last)",
      "\u001b[36mCell\u001b[39m\u001b[36m \u001b[39m\u001b[32mIn[85]\u001b[39m\u001b[32m, line 1\u001b[39m\n\u001b[32m----> \u001b[39m\u001b[32m1\u001b[39m \u001b[43msns\u001b[49m\u001b[43m.\u001b[49m\u001b[43mbarplot\u001b[49m\u001b[43m(\u001b[49m\u001b[43mhunting_data\u001b[49m\u001b[43m[\u001b[49m\u001b[33;43m\"\u001b[39;49m\u001b[33;43mFood Availability\u001b[39;49m\u001b[33;43m\"\u001b[39;49m\u001b[43m]\u001b[49m\u001b[43m,\u001b[49m\u001b[43m \u001b[49m\u001b[43morient\u001b[49m\u001b[43m=\u001b[49m\u001b[33;43m\"\u001b[39;49m\u001b[33;43mv\u001b[39;49m\u001b[33;43m\"\u001b[39;49m\u001b[43m)\u001b[49m;\n",
      "\u001b[36mFile \u001b[39m\u001b[32m~/jaar2/kwartaal3/machine_learning/hunting_mantis/.venv/lib/python3.11/site-packages/seaborn/categorical.py:2380\u001b[39m, in \u001b[36mbarplot\u001b[39m\u001b[34m(data, x, y, hue, order, hue_order, estimator, errorbar, n_boot, seed, units, weights, orient, color, palette, saturation, fill, hue_norm, width, dodge, gap, log_scale, native_scale, formatter, legend, capsize, err_kws, ci, errcolor, errwidth, ax, **kwargs)\u001b[39m\n\u001b[32m   2377\u001b[39m \u001b[38;5;66;03m# Deprecations to remove in v0.15.0.\u001b[39;00m\n\u001b[32m   2378\u001b[39m err_kws, capsize = p._err_kws_backcompat(err_kws, errcolor, errwidth, capsize)\n\u001b[32m-> \u001b[39m\u001b[32m2380\u001b[39m \u001b[43mp\u001b[49m\u001b[43m.\u001b[49m\u001b[43mplot_bars\u001b[49m\u001b[43m(\u001b[49m\n\u001b[32m   2381\u001b[39m \u001b[43m    \u001b[49m\u001b[43maggregator\u001b[49m\u001b[43m=\u001b[49m\u001b[43maggregator\u001b[49m\u001b[43m,\u001b[49m\n\u001b[32m   2382\u001b[39m \u001b[43m    \u001b[49m\u001b[43mdodge\u001b[49m\u001b[43m=\u001b[49m\u001b[43mdodge\u001b[49m\u001b[43m,\u001b[49m\n\u001b[32m   2383\u001b[39m \u001b[43m    \u001b[49m\u001b[43mwidth\u001b[49m\u001b[43m=\u001b[49m\u001b[43mwidth\u001b[49m\u001b[43m,\u001b[49m\n\u001b[32m   2384\u001b[39m \u001b[43m    \u001b[49m\u001b[43mgap\u001b[49m\u001b[43m=\u001b[49m\u001b[43mgap\u001b[49m\u001b[43m,\u001b[49m\n\u001b[32m   2385\u001b[39m \u001b[43m    \u001b[49m\u001b[43mcolor\u001b[49m\u001b[43m=\u001b[49m\u001b[43mcolor\u001b[49m\u001b[43m,\u001b[49m\n\u001b[32m   2386\u001b[39m \u001b[43m    \u001b[49m\u001b[43mfill\u001b[49m\u001b[43m=\u001b[49m\u001b[43mfill\u001b[49m\u001b[43m,\u001b[49m\n\u001b[32m   2387\u001b[39m \u001b[43m    \u001b[49m\u001b[43mcapsize\u001b[49m\u001b[43m=\u001b[49m\u001b[43mcapsize\u001b[49m\u001b[43m,\u001b[49m\n\u001b[32m   2388\u001b[39m \u001b[43m    \u001b[49m\u001b[43merr_kws\u001b[49m\u001b[43m=\u001b[49m\u001b[43merr_kws\u001b[49m\u001b[43m,\u001b[49m\n\u001b[32m   2389\u001b[39m \u001b[43m    \u001b[49m\u001b[43mplot_kws\u001b[49m\u001b[43m=\u001b[49m\u001b[43mkwargs\u001b[49m\u001b[43m,\u001b[49m\n\u001b[32m   2390\u001b[39m \u001b[43m\u001b[49m\u001b[43m)\u001b[49m\n\u001b[32m   2392\u001b[39m p._add_axis_labels(ax)\n\u001b[32m   2393\u001b[39m p._adjust_cat_axis(ax, axis=p.orient)\n",
      "\u001b[36mFile \u001b[39m\u001b[32m~/jaar2/kwartaal3/machine_learning/hunting_mantis/.venv/lib/python3.11/site-packages/seaborn/categorical.py:1280\u001b[39m, in \u001b[36m_CategoricalPlotter.plot_bars\u001b[39m\u001b[34m(self, aggregator, dodge, gap, width, fill, color, capsize, err_kws, plot_kws)\u001b[39m\n\u001b[32m   1273\u001b[39m \u001b[38;5;28;01mfor\u001b[39;00m sub_vars, sub_data \u001b[38;5;129;01min\u001b[39;00m \u001b[38;5;28mself\u001b[39m.iter_data(iter_vars,\n\u001b[32m   1274\u001b[39m                                          from_comp_data=\u001b[38;5;28;01mTrue\u001b[39;00m,\n\u001b[32m   1275\u001b[39m                                          allow_empty=\u001b[38;5;28;01mTrue\u001b[39;00m):\n\u001b[32m   1277\u001b[39m     ax = \u001b[38;5;28mself\u001b[39m._get_axes(sub_vars)\n\u001b[32m   1279\u001b[39m     agg_data = sub_data \u001b[38;5;28;01mif\u001b[39;00m sub_data.empty \u001b[38;5;28;01melse\u001b[39;00m (\n\u001b[32m-> \u001b[39m\u001b[32m1280\u001b[39m         \u001b[43msub_data\u001b[49m\n\u001b[32m   1281\u001b[39m \u001b[43m        \u001b[49m\u001b[43m.\u001b[49m\u001b[43mgroupby\u001b[49m\u001b[43m(\u001b[49m\u001b[38;5;28;43mself\u001b[39;49m\u001b[43m.\u001b[49m\u001b[43morient\u001b[49m\u001b[43m)\u001b[49m\n\u001b[32m   1282\u001b[39m \u001b[43m        \u001b[49m\u001b[43m.\u001b[49m\u001b[43mapply\u001b[49m\u001b[43m(\u001b[49m\u001b[43maggregator\u001b[49m\u001b[43m,\u001b[49m\u001b[43m \u001b[49m\u001b[43magg_var\u001b[49m\u001b[43m,\u001b[49m\u001b[43m \u001b[49m\u001b[43m*\u001b[49m\u001b[43m*\u001b[49m\u001b[43mgroupby_apply_include_groups\u001b[49m\u001b[43m(\u001b[49m\u001b[38;5;28;43;01mFalse\u001b[39;49;00m\u001b[43m)\u001b[49m\u001b[43m)\u001b[49m\n\u001b[32m   1283\u001b[39m         .reset_index()\n\u001b[32m   1284\u001b[39m     )\n\u001b[32m   1286\u001b[39m     agg_data[\u001b[33m\"\u001b[39m\u001b[33mwidth\u001b[39m\u001b[33m\"\u001b[39m] = width * \u001b[38;5;28mself\u001b[39m._native_width\n\u001b[32m   1287\u001b[39m     \u001b[38;5;28;01mif\u001b[39;00m dodge:\n",
      "\u001b[36mFile \u001b[39m\u001b[32m~/jaar2/kwartaal3/machine_learning/hunting_mantis/.venv/lib/python3.11/site-packages/pandas/core/groupby/groupby.py:1819\u001b[39m, in \u001b[36mGroupBy.apply\u001b[39m\u001b[34m(self, func, include_groups, *args, **kwargs)\u001b[39m\n\u001b[32m   1816\u001b[39m     f = func\n\u001b[32m   1818\u001b[39m \u001b[38;5;28;01mif\u001b[39;00m \u001b[38;5;129;01mnot\u001b[39;00m include_groups:\n\u001b[32m-> \u001b[39m\u001b[32m1819\u001b[39m     \u001b[38;5;28;01mreturn\u001b[39;00m \u001b[38;5;28;43mself\u001b[39;49m\u001b[43m.\u001b[49m\u001b[43m_python_apply_general\u001b[49m\u001b[43m(\u001b[49m\u001b[43mf\u001b[49m\u001b[43m,\u001b[49m\u001b[43m \u001b[49m\u001b[38;5;28;43mself\u001b[39;49m\u001b[43m.\u001b[49m\u001b[43m_obj_with_exclusions\u001b[49m\u001b[43m)\u001b[49m\n\u001b[32m   1821\u001b[39m \u001b[38;5;66;03m# ignore SettingWithCopy here in case the user mutates\u001b[39;00m\n\u001b[32m   1822\u001b[39m \u001b[38;5;28;01mwith\u001b[39;00m option_context(\u001b[33m\"\u001b[39m\u001b[33mmode.chained_assignment\u001b[39m\u001b[33m\"\u001b[39m, \u001b[38;5;28;01mNone\u001b[39;00m):\n",
      "\u001b[36mFile \u001b[39m\u001b[32m~/jaar2/kwartaal3/machine_learning/hunting_mantis/.venv/lib/python3.11/site-packages/pandas/core/groupby/groupby.py:1885\u001b[39m, in \u001b[36mGroupBy._python_apply_general\u001b[39m\u001b[34m(self, f, data, not_indexed_same, is_transform, is_agg)\u001b[39m\n\u001b[32m   1850\u001b[39m \u001b[38;5;129m@final\u001b[39m\n\u001b[32m   1851\u001b[39m \u001b[38;5;28;01mdef\u001b[39;00m\u001b[38;5;250m \u001b[39m\u001b[34m_python_apply_general\u001b[39m(\n\u001b[32m   1852\u001b[39m     \u001b[38;5;28mself\u001b[39m,\n\u001b[32m   (...)\u001b[39m\u001b[32m   1857\u001b[39m     is_agg: \u001b[38;5;28mbool\u001b[39m = \u001b[38;5;28;01mFalse\u001b[39;00m,\n\u001b[32m   1858\u001b[39m ) -> NDFrameT:\n\u001b[32m   1859\u001b[39m \u001b[38;5;250m    \u001b[39m\u001b[33;03m\"\"\"\u001b[39;00m\n\u001b[32m   1860\u001b[39m \u001b[33;03m    Apply function f in python space\u001b[39;00m\n\u001b[32m   1861\u001b[39m \n\u001b[32m   (...)\u001b[39m\u001b[32m   1883\u001b[39m \u001b[33;03m        data after applying f\u001b[39;00m\n\u001b[32m   1884\u001b[39m \u001b[33;03m    \"\"\"\u001b[39;00m\n\u001b[32m-> \u001b[39m\u001b[32m1885\u001b[39m     values, mutated = \u001b[38;5;28;43mself\u001b[39;49m\u001b[43m.\u001b[49m\u001b[43m_grouper\u001b[49m\u001b[43m.\u001b[49m\u001b[43mapply_groupwise\u001b[49m\u001b[43m(\u001b[49m\u001b[43mf\u001b[49m\u001b[43m,\u001b[49m\u001b[43m \u001b[49m\u001b[43mdata\u001b[49m\u001b[43m,\u001b[49m\u001b[43m \u001b[49m\u001b[38;5;28;43mself\u001b[39;49m\u001b[43m.\u001b[49m\u001b[43maxis\u001b[49m\u001b[43m)\u001b[49m\n\u001b[32m   1886\u001b[39m     \u001b[38;5;28;01mif\u001b[39;00m not_indexed_same \u001b[38;5;129;01mis\u001b[39;00m \u001b[38;5;28;01mNone\u001b[39;00m:\n\u001b[32m   1887\u001b[39m         not_indexed_same = mutated\n",
      "\u001b[36mFile \u001b[39m\u001b[32m~/jaar2/kwartaal3/machine_learning/hunting_mantis/.venv/lib/python3.11/site-packages/pandas/core/groupby/ops.py:919\u001b[39m, in \u001b[36mBaseGrouper.apply_groupwise\u001b[39m\u001b[34m(self, f, data, axis)\u001b[39m\n\u001b[32m    917\u001b[39m \u001b[38;5;66;03m# group might be modified\u001b[39;00m\n\u001b[32m    918\u001b[39m group_axes = group.axes\n\u001b[32m--> \u001b[39m\u001b[32m919\u001b[39m res = \u001b[43mf\u001b[49m\u001b[43m(\u001b[49m\u001b[43mgroup\u001b[49m\u001b[43m)\u001b[49m\n\u001b[32m    920\u001b[39m \u001b[38;5;28;01mif\u001b[39;00m \u001b[38;5;129;01mnot\u001b[39;00m mutated \u001b[38;5;129;01mand\u001b[39;00m \u001b[38;5;129;01mnot\u001b[39;00m _is_indexed_like(res, group_axes, axis):\n\u001b[32m    921\u001b[39m     mutated = \u001b[38;5;28;01mTrue\u001b[39;00m\n",
      "\u001b[36mFile \u001b[39m\u001b[32m~/jaar2/kwartaal3/machine_learning/hunting_mantis/.venv/lib/python3.11/site-packages/pandas/core/groupby/groupby.py:1809\u001b[39m, in \u001b[36mGroupBy.apply.<locals>.f\u001b[39m\u001b[34m(g)\u001b[39m\n\u001b[32m   1807\u001b[39m \u001b[38;5;129m@wraps\u001b[39m(func)\n\u001b[32m   1808\u001b[39m \u001b[38;5;28;01mdef\u001b[39;00m\u001b[38;5;250m \u001b[39m\u001b[34mf\u001b[39m(g):\n\u001b[32m-> \u001b[39m\u001b[32m1809\u001b[39m     \u001b[38;5;28;01mreturn\u001b[39;00m \u001b[43mfunc\u001b[49m\u001b[43m(\u001b[49m\u001b[43mg\u001b[49m\u001b[43m,\u001b[49m\u001b[43m \u001b[49m\u001b[43m*\u001b[49m\u001b[43margs\u001b[49m\u001b[43m,\u001b[49m\u001b[43m \u001b[49m\u001b[43m*\u001b[49m\u001b[43m*\u001b[49m\u001b[43mkwargs\u001b[49m\u001b[43m)\u001b[49m\n",
      "\u001b[36mFile \u001b[39m\u001b[32m~/jaar2/kwartaal3/machine_learning/hunting_mantis/.venv/lib/python3.11/site-packages/seaborn/_statistics.py:520\u001b[39m, in \u001b[36mEstimateAggregator.__call__\u001b[39m\u001b[34m(self, data, var)\u001b[39m\n\u001b[32m    517\u001b[39m     boots = bootstrap(vals, units=units, func=\u001b[38;5;28mself\u001b[39m.estimator, **\u001b[38;5;28mself\u001b[39m.boot_kws)\n\u001b[32m    518\u001b[39m     err_min, err_max = _percentile_interval(boots, \u001b[38;5;28mself\u001b[39m.error_level)\n\u001b[32m--> \u001b[39m\u001b[32m520\u001b[39m \u001b[38;5;28;01mreturn\u001b[39;00m \u001b[43mpd\u001b[49m\u001b[43m.\u001b[49m\u001b[43mSeries\u001b[49m\u001b[43m(\u001b[49m\u001b[43m{\u001b[49m\u001b[43mvar\u001b[49m\u001b[43m:\u001b[49m\u001b[43m \u001b[49m\u001b[43mestimate\u001b[49m\u001b[43m,\u001b[49m\u001b[43m \u001b[49m\u001b[33;43mf\u001b[39;49m\u001b[33;43m\"\u001b[39;49m\u001b[38;5;132;43;01m{\u001b[39;49;00m\u001b[43mvar\u001b[49m\u001b[38;5;132;43;01m}\u001b[39;49;00m\u001b[33;43mmin\u001b[39;49m\u001b[33;43m\"\u001b[39;49m\u001b[43m:\u001b[49m\u001b[43m \u001b[49m\u001b[43merr_min\u001b[49m\u001b[43m,\u001b[49m\u001b[43m \u001b[49m\u001b[33;43mf\u001b[39;49m\u001b[33;43m\"\u001b[39;49m\u001b[38;5;132;43;01m{\u001b[39;49;00m\u001b[43mvar\u001b[49m\u001b[38;5;132;43;01m}\u001b[39;49;00m\u001b[33;43mmax\u001b[39;49m\u001b[33;43m\"\u001b[39;49m\u001b[43m:\u001b[49m\u001b[43m \u001b[49m\u001b[43merr_max\u001b[49m\u001b[43m}\u001b[49m\u001b[43m)\u001b[49m\n",
      "\u001b[36mFile \u001b[39m\u001b[32m~/jaar2/kwartaal3/machine_learning/hunting_mantis/.venv/lib/python3.11/site-packages/pandas/core/series.py:537\u001b[39m, in \u001b[36mSeries.__init__\u001b[39m\u001b[34m(self, data, index, dtype, name, copy, fastpath)\u001b[39m\n\u001b[32m    535\u001b[39m         data = data._mgr\n\u001b[32m    536\u001b[39m \u001b[38;5;28;01melif\u001b[39;00m \u001b[38;5;28misinstance\u001b[39m(data, Mapping):\n\u001b[32m--> \u001b[39m\u001b[32m537\u001b[39m     data, index = \u001b[38;5;28;43mself\u001b[39;49m\u001b[43m.\u001b[49m\u001b[43m_init_dict\u001b[49m\u001b[43m(\u001b[49m\u001b[43mdata\u001b[49m\u001b[43m,\u001b[49m\u001b[43m \u001b[49m\u001b[43mindex\u001b[49m\u001b[43m,\u001b[49m\u001b[43m \u001b[49m\u001b[43mdtype\u001b[49m\u001b[43m)\u001b[49m\n\u001b[32m    538\u001b[39m     dtype = \u001b[38;5;28;01mNone\u001b[39;00m\n\u001b[32m    539\u001b[39m     copy = \u001b[38;5;28;01mFalse\u001b[39;00m\n",
      "\u001b[36mFile \u001b[39m\u001b[32m~/jaar2/kwartaal3/machine_learning/hunting_mantis/.venv/lib/python3.11/site-packages/pandas/core/series.py:651\u001b[39m, in \u001b[36mSeries._init_dict\u001b[39m\u001b[34m(self, data, index, dtype)\u001b[39m\n\u001b[32m    648\u001b[39m     keys, values = default_index(\u001b[32m0\u001b[39m), []\n\u001b[32m    650\u001b[39m \u001b[38;5;66;03m# Input is now list-like, so rely on \"standard\" construction:\u001b[39;00m\n\u001b[32m--> \u001b[39m\u001b[32m651\u001b[39m s = \u001b[43mSeries\u001b[49m\u001b[43m(\u001b[49m\u001b[43mvalues\u001b[49m\u001b[43m,\u001b[49m\u001b[43m \u001b[49m\u001b[43mindex\u001b[49m\u001b[43m=\u001b[49m\u001b[43mkeys\u001b[49m\u001b[43m,\u001b[49m\u001b[43m \u001b[49m\u001b[43mdtype\u001b[49m\u001b[43m=\u001b[49m\u001b[43mdtype\u001b[49m\u001b[43m)\u001b[49m\n\u001b[32m    653\u001b[39m \u001b[38;5;66;03m# Now we just make sure the order is respected, if any\u001b[39;00m\n\u001b[32m    654\u001b[39m \u001b[38;5;28;01mif\u001b[39;00m data \u001b[38;5;129;01mand\u001b[39;00m index \u001b[38;5;129;01mis\u001b[39;00m \u001b[38;5;129;01mnot\u001b[39;00m \u001b[38;5;28;01mNone\u001b[39;00m:\n",
      "\u001b[36mFile \u001b[39m\u001b[32m~/jaar2/kwartaal3/machine_learning/hunting_mantis/.venv/lib/python3.11/site-packages/pandas/core/series.py:490\u001b[39m, in \u001b[36mSeries.__init__\u001b[39m\u001b[34m(self, data, index, dtype, name, copy, fastpath)\u001b[39m\n\u001b[32m    487\u001b[39m name = ibase.maybe_extract_name(name, data, \u001b[38;5;28mtype\u001b[39m(\u001b[38;5;28mself\u001b[39m))\n\u001b[32m    489\u001b[39m \u001b[38;5;28;01mif\u001b[39;00m index \u001b[38;5;129;01mis\u001b[39;00m \u001b[38;5;129;01mnot\u001b[39;00m \u001b[38;5;28;01mNone\u001b[39;00m:\n\u001b[32m--> \u001b[39m\u001b[32m490\u001b[39m     index = \u001b[43mensure_index\u001b[49m\u001b[43m(\u001b[49m\u001b[43mindex\u001b[49m\u001b[43m)\u001b[49m\n\u001b[32m    492\u001b[39m \u001b[38;5;28;01mif\u001b[39;00m dtype \u001b[38;5;129;01mis\u001b[39;00m \u001b[38;5;129;01mnot\u001b[39;00m \u001b[38;5;28;01mNone\u001b[39;00m:\n\u001b[32m    493\u001b[39m     dtype = \u001b[38;5;28mself\u001b[39m._validate_dtype(dtype)\n",
      "\u001b[36mFile \u001b[39m\u001b[32m~/jaar2/kwartaal3/machine_learning/hunting_mantis/.venv/lib/python3.11/site-packages/pandas/core/indexes/base.py:7649\u001b[39m, in \u001b[36mensure_index\u001b[39m\u001b[34m(index_like, copy)\u001b[39m\n\u001b[32m   7647\u001b[39m         \u001b[38;5;28;01mreturn\u001b[39;00m Index(index_like, copy=copy, tupleize_cols=\u001b[38;5;28;01mFalse\u001b[39;00m)\n\u001b[32m   7648\u001b[39m \u001b[38;5;28;01melse\u001b[39;00m:\n\u001b[32m-> \u001b[39m\u001b[32m7649\u001b[39m     \u001b[38;5;28;01mreturn\u001b[39;00m \u001b[43mIndex\u001b[49m\u001b[43m(\u001b[49m\u001b[43mindex_like\u001b[49m\u001b[43m,\u001b[49m\u001b[43m \u001b[49m\u001b[43mcopy\u001b[49m\u001b[43m=\u001b[49m\u001b[43mcopy\u001b[49m\u001b[43m)\u001b[49m\n",
      "\u001b[36mFile \u001b[39m\u001b[32m~/jaar2/kwartaal3/machine_learning/hunting_mantis/.venv/lib/python3.11/site-packages/pandas/core/indexes/base.py:565\u001b[39m, in \u001b[36mIndex.__new__\u001b[39m\u001b[34m(cls, data, dtype, copy, name, tupleize_cols)\u001b[39m\n\u001b[32m    562\u001b[39m         data = com.asarray_tuplesafe(data, dtype=_dtype_obj)\n\u001b[32m    564\u001b[39m \u001b[38;5;28;01mtry\u001b[39;00m:\n\u001b[32m--> \u001b[39m\u001b[32m565\u001b[39m     arr = \u001b[43msanitize_array\u001b[49m\u001b[43m(\u001b[49m\u001b[43mdata\u001b[49m\u001b[43m,\u001b[49m\u001b[43m \u001b[49m\u001b[38;5;28;43;01mNone\u001b[39;49;00m\u001b[43m,\u001b[49m\u001b[43m \u001b[49m\u001b[43mdtype\u001b[49m\u001b[43m=\u001b[49m\u001b[43mdtype\u001b[49m\u001b[43m,\u001b[49m\u001b[43m \u001b[49m\u001b[43mcopy\u001b[49m\u001b[43m=\u001b[49m\u001b[43mcopy\u001b[49m\u001b[43m)\u001b[49m\n\u001b[32m    566\u001b[39m \u001b[38;5;28;01mexcept\u001b[39;00m \u001b[38;5;167;01mValueError\u001b[39;00m \u001b[38;5;28;01mas\u001b[39;00m err:\n\u001b[32m    567\u001b[39m     \u001b[38;5;28;01mif\u001b[39;00m \u001b[33m\"\u001b[39m\u001b[33mindex must be specified when data is not list-like\u001b[39m\u001b[33m\"\u001b[39m \u001b[38;5;129;01min\u001b[39;00m \u001b[38;5;28mstr\u001b[39m(err):\n",
      "\u001b[36mFile \u001b[39m\u001b[32m~/jaar2/kwartaal3/machine_learning/hunting_mantis/.venv/lib/python3.11/site-packages/pandas/core/construction.py:654\u001b[39m, in \u001b[36msanitize_array\u001b[39m\u001b[34m(data, index, dtype, copy, allow_2d)\u001b[39m\n\u001b[32m    651\u001b[39m     subarr = _try_cast(data, dtype, copy)\n\u001b[32m    653\u001b[39m \u001b[38;5;28;01melse\u001b[39;00m:\n\u001b[32m--> \u001b[39m\u001b[32m654\u001b[39m     subarr = \u001b[43mmaybe_convert_platform\u001b[49m\u001b[43m(\u001b[49m\u001b[43mdata\u001b[49m\u001b[43m)\u001b[49m\n\u001b[32m    655\u001b[39m     \u001b[38;5;28;01mif\u001b[39;00m subarr.dtype == \u001b[38;5;28mobject\u001b[39m:\n\u001b[32m    656\u001b[39m         subarr = cast(np.ndarray, subarr)\n",
      "\u001b[36mFile \u001b[39m\u001b[32m~/jaar2/kwartaal3/machine_learning/hunting_mantis/.venv/lib/python3.11/site-packages/pandas/core/dtypes/cast.py:138\u001b[39m, in \u001b[36mmaybe_convert_platform\u001b[39m\u001b[34m(values)\u001b[39m\n\u001b[32m    136\u001b[39m \u001b[38;5;28;01mif\u001b[39;00m arr.dtype == _dtype_obj:\n\u001b[32m    137\u001b[39m     arr = cast(np.ndarray, arr)\n\u001b[32m--> \u001b[39m\u001b[32m138\u001b[39m     arr = \u001b[43mlib\u001b[49m\u001b[43m.\u001b[49m\u001b[43mmaybe_convert_objects\u001b[49m\u001b[43m(\u001b[49m\u001b[43marr\u001b[49m\u001b[43m)\u001b[49m\n\u001b[32m    140\u001b[39m \u001b[38;5;28;01mreturn\u001b[39;00m arr\n",
      "\u001b[36mFile \u001b[39m\u001b[32mlib.pyx:2543\u001b[39m, in \u001b[36mpandas._libs.lib.maybe_convert_objects\u001b[39m\u001b[34m()\u001b[39m\n",
      "\u001b[36mFile \u001b[39m\u001b[32m~/jaar2/kwartaal3/machine_learning/hunting_mantis/.venv/lib/python3.11/site-packages/numpy/_core/numeric.py:350\u001b[39m, in \u001b[36mfull\u001b[39m\u001b[34m(shape, fill_value, dtype, order, device, like)\u001b[39m\n\u001b[32m    345\u001b[39m     \u001b[38;5;28;01mreturn\u001b[39;00m _full_with_like(\n\u001b[32m    346\u001b[39m         like, shape, fill_value, dtype=dtype, order=order, device=device\n\u001b[32m    347\u001b[39m     )\n\u001b[32m    349\u001b[39m \u001b[38;5;28;01mif\u001b[39;00m dtype \u001b[38;5;129;01mis\u001b[39;00m \u001b[38;5;28;01mNone\u001b[39;00m:\n\u001b[32m--> \u001b[39m\u001b[32m350\u001b[39m     fill_value = asarray(fill_value)\n\u001b[32m    351\u001b[39m     dtype = fill_value.dtype\n\u001b[32m    352\u001b[39m a = empty(shape, dtype, order, device=device)\n",
      "\u001b[31mKeyboardInterrupt\u001b[39m: "
     ]
    }
   ],
   "source": [
    "sns.barplot(hunting_data[\"Food Availability\"]);"
   ]
  }
 ],
 "metadata": {
  "kernelspec": {
   "display_name": ".venv",
   "language": "python",
   "name": "python3"
  },
  "language_info": {
   "codemirror_mode": {
    "name": "ipython",
    "version": 3
   },
   "file_extension": ".py",
   "mimetype": "text/x-python",
   "name": "python",
   "nbconvert_exporter": "python",
   "pygments_lexer": "ipython3",
   "version": "3.11.2"
  }
 },
 "nbformat": 4,
 "nbformat_minor": 2
}
